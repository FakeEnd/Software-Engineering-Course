{
 "cells": [
  {
   "cell_type": "code",
   "execution_count": 1,
   "id": "c287f09d",
   "metadata": {},
   "outputs": [],
   "source": [
    "import os\n",
    "\n",
    "os.environ[\"TF_CPP_MIN_LOG_LEVEL\"] = \"2\"\n",
    "\n",
    "import tensorflow as tf\n",
    "from tensorflow import keras\n",
    "from tensorflow.keras import layers\n",
    "from tensorflow.keras.datasets import mnist"
   ]
  },
  {
   "cell_type": "code",
   "execution_count": 2,
   "id": "7f1967a7",
   "metadata": {},
   "outputs": [
    {
     "name": "stdout",
     "output_type": "stream",
     "text": [
      "[PhysicalDevice(name='/physical_device:GPU:0', device_type='GPU')]\n"
     ]
    }
   ],
   "source": [
    "# export CUDA_VISIBLE_DEVICES=1\n",
    "# os.environ[\"CUDA_VISIBLE_DEVICES\"]=\"1\"\n",
    "gpus = tf.config.list_physical_devices(\"GPU\")\n",
    "print(gpus)\n",
    "tf.config.experimental.set_virtual_device_configuration(gpus[0], \n",
    "[tf.config.experimental.VirtualDeviceConfiguration(memory_limit=3300)])"
   ]
  },
  {
   "cell_type": "code",
   "execution_count": 3,
   "id": "adc265b7",
   "metadata": {},
   "outputs": [],
   "source": [
    "# load and prepare data for training\n",
    "(x_train, y_train), (x_test, y_test) = mnist.load_data()\n",
    "x_train = x_train.reshape(-1, 28 * 28).astype(\"float32\") / 255.0\n",
    "x_test = x_test.reshape(-1, 28 * 28).astype(\"float32\") / 255.0"
   ]
  },
  {
   "attachments": {},
   "cell_type": "markdown",
   "id": "350fbab3",
   "metadata": {},
   "source": [
    "## Dense Feed Forward Neural Networks (DFNNs)  also known as multi-layer perceptrons(MLPs)\n",
    "* well suited for inferencing from tabular data"
   ]
  },
  {
   "attachments": {},
   "cell_type": "markdown",
   "id": "db8118db",
   "metadata": {},
   "source": [
    "### Construct DFNN model using Sequential API  \n",
    "* simple interface\n",
    "* limited functionality"
   ]
  },
  {
   "cell_type": "code",
   "execution_count": 4,
   "id": "c343812c",
   "metadata": {},
   "outputs": [],
   "source": [
    "# Sequential API (Very convenient, not very flexible)\n",
    "modelDFNN1 = keras.Sequential(\n",
    "    [\n",
    "        keras.Input(shape=(28 * 28)),\n",
    "        layers.Dense(512, activation=\"relu\"),\n",
    "        layers.Dense(256, activation=\"relu\"),\n",
    "        layers.Dense(10),\n",
    "    ]\n",
    ")\n",
    "\n",
    "modelDFNN1 = keras.Sequential()\n",
    "modelDFNN1.add(keras.Input(shape=(784)))\n",
    "modelDFNN1.add(layers.Dense(512, activation=\"relu\"))\n",
    "modelDFNN1.add(layers.Dense(256, activation=\"relu\", name=\"my_layer\"))\n",
    "modelDFNN1.add(layers.Dense(10))"
   ]
  },
  {
   "cell_type": "code",
   "execution_count": 5,
   "id": "4d6c1f9c",
   "metadata": {},
   "outputs": [],
   "source": [
    "# ToDo #1: List what objects the modelDFNN1 is comprised of (built from)"
   ]
  },
  {
   "cell_type": "code",
   "execution_count": 6,
   "id": "f1c00633",
   "metadata": {},
   "outputs": [
    {
     "name": "stderr",
     "output_type": "stream",
     "text": [
      "/archive/course/SWE22/shared/SWE2023_week2/CondaEnvs/Nanocourse2022TF/lib/python3.9/site-packages/keras/optimizer_v2/optimizer_v2.py:355: UserWarning: The `lr` argument is deprecated, use `learning_rate` instead.\n",
      "  warnings.warn(\n"
     ]
    }
   ],
   "source": [
    "modelDFNN1.compile(\n",
    "    loss=keras.losses.SparseCategoricalCrossentropy(from_logits=False),\n",
    "    optimizer=keras.optimizers.Adam(lr=0.001),\n",
    "    metrics=[\"accuracy\"],\n",
    ")"
   ]
  },
  {
   "cell_type": "code",
   "execution_count": 7,
   "id": "cb47d972",
   "metadata": {},
   "outputs": [
    {
     "name": "stdout",
     "output_type": "stream",
     "text": [
      "Epoch 1/5\n",
      "1875/1875 - 3s - loss: 2.3229 - accuracy: 0.1857\n",
      "Epoch 2/5\n",
      "1875/1875 - 1s - loss: 2.3026 - accuracy: 0.1479\n",
      "Epoch 3/5\n",
      "1875/1875 - 1s - loss: 2.3026 - accuracy: 0.1479\n",
      "Epoch 4/5\n",
      "1875/1875 - 1s - loss: 2.3026 - accuracy: 0.1479\n",
      "Epoch 5/5\n",
      "1875/1875 - 1s - loss: 2.3026 - accuracy: 0.1479\n",
      "313/313 - 0s - loss: 2.3026 - accuracy: 0.1524\n"
     ]
    },
    {
     "data": {
      "text/plain": [
       "[2.30259108543396, 0.15240000188350677]"
      ]
     },
     "execution_count": 7,
     "metadata": {},
     "output_type": "execute_result"
    }
   ],
   "source": [
    "modelDFNN1.fit(x_train, y_train, batch_size=32, epochs=5, verbose=2)\n",
    "modelDFNN1.evaluate(x_test, y_test, batch_size=32, verbose=2)"
   ]
  },
  {
   "cell_type": "code",
   "execution_count": 8,
   "id": "325b0a75",
   "metadata": {},
   "outputs": [],
   "source": [
    "# ToDo #2: What train and test accuracy do you obtain when running for 5 epochs ?  \n",
    "\n",
    "\n"
   ]
  },
  {
   "cell_type": "code",
   "execution_count": 9,
   "id": "0f45161c",
   "metadata": {},
   "outputs": [],
   "source": [
    "# ToDo #3: Now write code (add code cells to this notebook) to train the model for 20 additional epochs. What train and test accuracy do you obtain? \n",
    "\n",
    "\n"
   ]
  },
  {
   "attachments": {},
   "cell_type": "markdown",
   "id": "28b9d4f5",
   "metadata": {},
   "source": [
    "### Construct DFNN model using Functional API  \n",
    "* slightly more complex interface\n",
    "* additional functionality"
   ]
  },
  {
   "cell_type": "code",
   "execution_count": 10,
   "id": "ef7835d5",
   "metadata": {},
   "outputs": [],
   "source": [
    "# ToDo #4: Now practice using the OO functional API of keras by constructing your own functional model, modelDFNN2.\n",
    "# To simplify the task, create this model so that it uses the same architecture as the sequential model.\n",
    "# For the final Dense layer use activation=\"softmax\"\n"
   ]
  },
  {
   "cell_type": "code",
   "execution_count": 11,
   "id": "4f9ad72f",
   "metadata": {},
   "outputs": [],
   "source": [
    "# Functional API (A bit more flexible)\n",
    "inputs = keras.Input(shape=(784))\n",
    "x = layers.Dense(512, activation=\"relu\", name=\"first_layer\")(inputs)\n",
    "x = layers.Dense(256, activation=\"relu\", name=\"second_layer\")(x)\n",
    "outputs = layers.Dense(10, activation=\"softmax\")(x)\n",
    "modelDFNN2 = keras.Model(inputs=inputs, outputs=outputs)\n",
    "\n",
    "\n",
    "\n"
   ]
  },
  {
   "cell_type": "code",
   "execution_count": 12,
   "id": "0f23ea53",
   "metadata": {},
   "outputs": [],
   "source": [
    "# Now to gain experience invoking methods on objects you have created,\n",
    "# write code to compile(), fit() your new model on the training data. \n",
    "# Then write code to evaluate your new model on the test data. \n"
   ]
  },
  {
   "cell_type": "code",
   "execution_count": 13,
   "id": "7ab84e59",
   "metadata": {},
   "outputs": [],
   "source": [
    "modelDFNN2.compile(\n",
    "    loss=keras.losses.SparseCategoricalCrossentropy(from_logits=False),\n",
    "    optimizer=keras.optimizers.Adam(lr=0.001),\n",
    "    metrics=[\"accuracy\"],\n",
    ")"
   ]
  },
  {
   "cell_type": "code",
   "execution_count": 14,
   "id": "07ae3065",
   "metadata": {},
   "outputs": [
    {
     "name": "stdout",
     "output_type": "stream",
     "text": [
      "Epoch 1/5\n",
      "1875/1875 - 2s - loss: 0.1859 - accuracy: 0.9430\n",
      "Epoch 2/5\n",
      "1875/1875 - 1s - loss: 0.0821 - accuracy: 0.9748\n",
      "Epoch 3/5\n",
      "1875/1875 - 1s - loss: 0.0538 - accuracy: 0.9826\n",
      "Epoch 4/5\n",
      "1875/1875 - 1s - loss: 0.0409 - accuracy: 0.9865\n",
      "Epoch 5/5\n",
      "1875/1875 - 1s - loss: 0.0325 - accuracy: 0.9896\n",
      "313/313 - 0s - loss: 0.0743 - accuracy: 0.9796\n"
     ]
    },
    {
     "data": {
      "text/plain": [
       "[0.07427527010440826, 0.9796000123023987]"
      ]
     },
     "execution_count": 14,
     "metadata": {},
     "output_type": "execute_result"
    }
   ],
   "source": [
    "modelDFNN2.fit(x_train, y_train, batch_size=32, epochs=5, verbose=2)\n",
    "modelDFNN2.evaluate(x_test, y_test, batch_size=32, verbose=2)"
   ]
  },
  {
   "cell_type": "code",
   "execution_count": null,
   "id": "35993c43",
   "metadata": {},
   "outputs": [],
   "source": [
    "# ToDo #5. Write down what train and test accuracy do you observe? How does it compare to the sequential model?"
   ]
  },
  {
   "cell_type": "code",
   "execution_count": null,
   "id": "7eaafd90",
   "metadata": {},
   "outputs": [],
   "source": [
    "# For fun: explore the architecture space by adding or removing layers from your model, retrain from scratch. \n",
    "# Learn how that impacts model performance. State of the art accuracy is around 99.97% . \n",
    "# You do not need to achieve that (nor is that expected here) but to give you an idea."
   ]
  }
 ],
 "metadata": {
  "kernelspec": {
   "display_name": "Python 3.9.12",
   "language": "python",
   "name": "python3"
  },
  "language_info": {
   "codemirror_mode": {
    "name": "ipython",
    "version": 3
   },
   "file_extension": ".py",
   "mimetype": "text/x-python",
   "name": "python",
   "nbconvert_exporter": "python",
   "pygments_lexer": "ipython3",
   "version": "3.9.12"
  },
  "vscode": {
   "interpreter": {
    "hash": "ea20bfbd03d77018952bfba9faf0ef3a2cfe5a3c7f5a8c2430a1a0043a68771b"
   }
  }
 },
 "nbformat": 4,
 "nbformat_minor": 5
}
